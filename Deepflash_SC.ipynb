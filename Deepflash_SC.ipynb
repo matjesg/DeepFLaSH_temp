{
  "nbformat": 4,
  "nbformat_minor": 0,
  "metadata": {
    "kernelspec": {
      "name": "python3",
      "display_name": "Python 3"
    },
    "language_info": {
      "codemirror_mode": {
        "name": "ipython",
        "version": 3
      },
      "file_extension": ".py",
      "mimetype": "text/x-python",
      "name": "python",
      "nbconvert_exporter": "python",
      "pygments_lexer": "ipython3",
      "version": "3.7.3"
    },
    "colab": {
      "name": "Deepflash_SC.ipynb",
      "version": "0.3.2",
      "provenance": [],
      "include_colab_link": true
    },
    "accelerator": "GPU"
  },
  "cells": [
    {
      "cell_type": "markdown",
      "metadata": {
        "id": "view-in-github",
        "colab_type": "text"
      },
      "source": [
        "<a href=\"https://colab.research.google.com/github/matjesg/DeepFLaSH2/blob/master/Deepflash_SC.ipynb\" target=\"_parent\"><img src=\"https://colab.research.google.com/assets/colab-badge.svg\" alt=\"Open In Colab\"/></a>"
      ]
    },
    {
      "cell_type": "markdown",
      "metadata": {
        "id": "dnBXTRubeh7g",
        "colab_type": "text"
      },
      "source": [
        "### Single Coder Notebook\n",
        "\n",
        "- [x] Cora\n",
        "- [ ] Dennis\n",
        "- [ ] Manju\n",
        "- [ ] Corinna\n",
        "- [ ] GT"
      ]
    },
    {
      "cell_type": "markdown",
      "metadata": {
        "id": "8heEQGNCeh7i",
        "colab_type": "text"
      },
      "source": [
        "### Colab options"
      ]
    },
    {
      "cell_type": "code",
      "metadata": {
        "id": "zbeAeV2aeh7j",
        "colab_type": "code",
        "colab": {}
      },
      "source": [
        "try:\n",
        "    from google.colab import drive\n",
        "    drive.mount('/content/drive')\n",
        "    !git clone https://github.com/matjesg/DeepFLaSH2.git /content/drive/My\\ Drive/DeepFLaSH2\n",
        "    %cd /content/drive/My\\ Drive/DeepFLaSH2\n",
        "except:\n",
        "    pass"
      ],
      "execution_count": 0,
      "outputs": []
    },
    {
      "cell_type": "markdown",
      "metadata": {
        "id": "NSvhWsdfeh7p",
        "colab_type": "text"
      },
      "source": [
        "Import packages"
      ]
    },
    {
      "cell_type": "code",
      "metadata": {
        "id": "071sw5Tjeh7q",
        "colab_type": "code",
        "colab": {}
      },
      "source": [
        "%load_ext autoreload\n",
        "%autoreload 2\n",
        "import os\n",
        "import numpy as np\n",
        "import pandas as pd\n",
        "from skimage import io\n",
        "from deepflash import unet, preproc\n",
        "import matplotlib.pyplot as plt\n",
        "from tqdm import tqdm\n",
        "%matplotlib inline"
      ],
      "execution_count": 0,
      "outputs": []
    },
    {
      "cell_type": "markdown",
      "metadata": {
        "id": "nQ09MgFGeh7u",
        "colab_type": "text"
      },
      "source": [
        "## Global Settings"
      ]
    },
    {
      "cell_type": "code",
      "metadata": {
        "id": "nknoyvzKeh7u",
        "colab_type": "code",
        "colab": {}
      },
      "source": [
        "CODER = ['cora']  #'rohini', 'dennis', 'cora', 'manju', 'corinna'\n",
        "NAME_PREFIX = 'sc_falk'\n",
        "MASK = 'cFOS'\n",
        "IMAGE = 'red'\n",
        "CHANNELS_IMG = 1\n",
        "DATA_PATH = \"data/images\"\n",
        "MASK_PATH = \"data/labels\"\n",
        "ASSIGNMENT_PATH = 'samples_36_final.csv'\n",
        "TILE_SHAPE = (540,540)\n",
        "PADDING = (184,184)\n",
        "SEED = 0\n",
        "EL_SIZE = [635.9, 635.9] #micrometers\n",
        "CHECKPOINTS = 'checkpoints_sc'\n",
        "LOGDIR = 'logs_sc'"
      ],
      "execution_count": 0,
      "outputs": []
    },
    {
      "cell_type": "markdown",
      "metadata": {
        "id": "dTFOMGX8eh7x",
        "colab_type": "text"
      },
      "source": [
        "### Training params"
      ]
    },
    {
      "cell_type": "code",
      "metadata": {
        "id": "9HMGa5V4eh7y",
        "colab_type": "code",
        "colab": {}
      },
      "source": [
        "PRETAINED = None# 'caffe/caffe_weights.h5' #None\n",
        "BATCH_NORM = False\n",
        "EPOCHS = 100\n",
        "CYCLIC_LR = 'triangular'\n",
        "SNAPSHOT_INTERVAL = 100"
      ],
      "execution_count": 0,
      "outputs": []
    },
    {
      "cell_type": "markdown",
      "metadata": {
        "id": "lU4b8WPReh72",
        "colab_type": "text"
      },
      "source": [
        "### Weighting params"
      ]
    },
    {
      "cell_type": "code",
      "metadata": {
        "id": "1W1j8iVYeh74",
        "colab_type": "code",
        "colab": {}
      },
      "source": [
        "LAMBDA = 50 #50\n",
        "V_BAL = 0.1 #0.1\n",
        "SIGMA_BAL = 10 #10 \n",
        "SIGMA_SEP = 6 #6"
      ],
      "execution_count": 0,
      "outputs": []
    },
    {
      "cell_type": "markdown",
      "metadata": {
        "toc-hr-collapsed": false,
        "id": "w0THTkITeh77",
        "colab_type": "text"
      },
      "source": [
        "## Load Data"
      ]
    },
    {
      "cell_type": "markdown",
      "metadata": {
        "id": "TCJkses9eh78",
        "colab_type": "text"
      },
      "source": [
        "Excel list with assignments"
      ]
    },
    {
      "cell_type": "code",
      "metadata": {
        "id": "MP_sx-K5eh79",
        "colab_type": "code",
        "colab": {}
      },
      "source": [
        "assignment = pd.read_csv(ASSIGNMENT_PATH, converters={'Nummer': lambda x: str(x).zfill(4)})\n",
        "file_ids = assignment['Nummer'].tolist()"
      ],
      "execution_count": 0,
      "outputs": []
    },
    {
      "cell_type": "markdown",
      "metadata": {
        "id": "LJltmoB5eh7_",
        "colab_type": "text"
      },
      "source": [
        "Images"
      ]
    },
    {
      "cell_type": "code",
      "metadata": {
        "id": "6SPT-SGmeh8A",
        "colab_type": "code",
        "colab": {}
      },
      "source": [
        "image_list = [io.imread(os.path.join(DATA_PATH, img_name), as_gray=True) for \n",
        "              img_name in [s + '_' + IMAGE + '.tif' for s in file_ids]]\n",
        "\n",
        "image_list = [np.expand_dims(img, axis=2) for img in image_list]\n",
        "data = [{'rawdata': img, 'element_size_um': EL_SIZE} for img in image_list]"
      ],
      "execution_count": 0,
      "outputs": []
    },
    {
      "cell_type": "markdown",
      "metadata": {
        "id": "f-6OYQzdeh8I",
        "colab_type": "text"
      },
      "source": [
        "### Loop over coder and folds"
      ]
    },
    {
      "cell_type": "code",
      "metadata": {
        "id": "E-DNrzWieh8J",
        "colab_type": "code",
        "colab": {}
      },
      "source": [
        "for coder in CODER:\n",
        "    mask_list = [io.imread(os.path.join(MASK_PATH, coder, x), as_gray=True).astype('int')\n",
        "             for x in [s + '_' + MASK + '.png' for s in file_ids]]\n",
        "    \n",
        "       \n",
        "    name = NAME_PREFIX + '_' + MASK + '_' + str(CYCLIC_LR) + '_' + coder \n",
        "    print(name)\n",
        "    \n",
        "    X_train = np.array(image_list)\n",
        "    y_train = np.array(mask_list)\n",
        "\n",
        "    data_train = [{'rawdata': img, 'element_size_um': EL_SIZE} for img in X_train]\n",
        "\n",
        "    ## Generators\n",
        "    train_generator = preproc.DataAugmentationGenerator(data = data_train, \n",
        "                                                    classlabels=y_train,\n",
        "                                                    instancelabels=None,\n",
        "                                                    tile_shape = TILE_SHAPE, \n",
        "                                                    padding= PADDING,\n",
        "                                                    batch_size = 4,\n",
        "                                                    n_classes=2,\n",
        "                                                    ignore=None,\n",
        "                                                    weights=None,\n",
        "                                                    element_size_um=None,\n",
        "                                                    rotation_range_deg=(0, 360),\n",
        "                                                    flip=False,\n",
        "                                                    deformation_grid=(150, 150),\n",
        "                                                    deformation_magnitude=(10, 10),\n",
        "                                                    value_minimum_range=(0, 0),\n",
        "                                                    value_maximum_range=(0.0, 1),\n",
        "                                                    value_slope_range=(1, 1),\n",
        "                                                    shuffle=True,\n",
        "                                                    foreground_dist_sigma_px=SIGMA_BAL,\n",
        "                                                    border_weight_sigma_px=SIGMA_SEP,\n",
        "                                                    border_weight_factor=LAMBDA,\n",
        "                                                    foreground_background_ratio=V_BAL\n",
        "                                                   )\n",
        "\n",
        "\n",
        "    model = unet.Unet2D(snapshot=None, \n",
        "                    n_channels=1, \n",
        "                    n_classes=2, \n",
        "                    n_levels=4,\n",
        "                    batch_norm = BATCH_NORM,\n",
        "                    upsample=False,\n",
        "                    relu_alpha=0.1,\n",
        "                    n_features=64, name=name)\n",
        "\n",
        "    model.train(train_generator, \n",
        "            validation_generator=None, \n",
        "            n_epochs=EPOCHS, \n",
        "            snapshot_interval= SNAPSHOT_INTERVAL,\n",
        "            snapshot_dir = CHECKPOINTS,\n",
        "            snapshot_prefix=name,\n",
        "            log_dir = LOGDIR,\n",
        "            cyclic_lr= CYCLIC_LR,\n",
        "            step_muliplier=9)"
      ],
      "execution_count": 0,
      "outputs": []
    }
  ]
}