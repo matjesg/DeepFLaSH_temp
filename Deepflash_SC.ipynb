{
 "cells": [
  {
   "cell_type": "markdown",
   "metadata": {},
   "source": [
    "### Single Coder Notebook\n",
    "\n",
    "- [ ] Cora\n",
    "- [ ] Dennis\n",
    "- [ ] Manju\n",
    "- [ ] Corinna\n",
    "- [ ] GT"
   ]
  },
  {
   "cell_type": "markdown",
   "metadata": {},
   "source": [
    "### Colab options"
   ]
  },
  {
   "cell_type": "code",
   "execution_count": null,
   "metadata": {},
   "outputs": [],
   "source": [
    "try:\n",
    "    from google.colab import drive\n",
    "    drive.mount('/content/drive')\n",
    "    !git clone https://github.com/matjesg/DeepFLaSH2.git /content/drive/My\\ Drive/DeepFLaSH2\n",
    "    %cd /content/drive/My\\ Drive/DeepFLaSH2\n",
    "except:\n",
    "    pass"
   ]
  },
  {
   "cell_type": "markdown",
   "metadata": {},
   "source": [
    "Import packages"
   ]
  },
  {
   "cell_type": "code",
   "execution_count": null,
   "metadata": {},
   "outputs": [],
   "source": [
    "%load_ext autoreload\n",
    "%autoreload 2\n",
    "import os\n",
    "import numpy as np\n",
    "import pandas as pd\n",
    "from skimage import io\n",
    "from deepflash import unet, preproc\n",
    "import matplotlib.pyplot as plt\n",
    "from tqdm import tqdm\n",
    "%matplotlib inline"
   ]
  },
  {
   "cell_type": "markdown",
   "metadata": {},
   "source": [
    "## Global Settings"
   ]
  },
  {
   "cell_type": "code",
   "execution_count": null,
   "metadata": {},
   "outputs": [],
   "source": [
    "CODER = ['rohini', 'dennis', 'cora', 'manju', 'corinna','gt']  #'rohini', 'dennis', 'cora', 'manju', 'corinna'\n",
    "NAME_PREFIX = 'sc_falk'\n",
    "MASK = 'cFOS'\n",
    "IMAGE = 'red'\n",
    "CHANNELS_IMG = 1\n",
    "DATA_PATH = \"data/images\"\n",
    "MASK_PATH = \"data/labels\"\n",
    "ASSIGNMENT_PATH = 'samples_36_final.csv'\n",
    "TILE_SHAPE = (540,540)\n",
    "PADDING = (184,184)\n",
    "SEED = 0\n",
    "EL_SIZE = [635.9, 635.9] #micrometers\n",
    "CHECKPOINTS = 'checkpoints_sc'\n",
    "LOGDIR = 'logs_sc'"
   ]
  },
  {
   "cell_type": "markdown",
   "metadata": {},
   "source": [
    "### Training params"
   ]
  },
  {
   "cell_type": "code",
   "execution_count": null,
   "metadata": {},
   "outputs": [],
   "source": [
    "PRETAINED = None# 'caffe/caffe_weights.h5' #None\n",
    "BATCH_NORM = False\n",
    "EPOCHS = 100\n",
    "CYCLIC_LR = 'triangular'\n",
    "SNAPSHOT_INTERVAL = 100"
   ]
  },
  {
   "cell_type": "markdown",
   "metadata": {},
   "source": [
    "### Weighting params"
   ]
  },
  {
   "cell_type": "code",
   "execution_count": null,
   "metadata": {},
   "outputs": [],
   "source": [
    "LAMBDA = 50 #50\n",
    "V_BAL = 0.1 #0.1\n",
    "SIGMA_BAL = 10 #10 \n",
    "SIGMA_SEP = 6 #6"
   ]
  },
  {
   "cell_type": "markdown",
   "metadata": {
    "toc-hr-collapsed": false
   },
   "source": [
    "## Load Data"
   ]
  },
  {
   "cell_type": "markdown",
   "metadata": {},
   "source": [
    "Excel list with assignments"
   ]
  },
  {
   "cell_type": "code",
   "execution_count": null,
   "metadata": {},
   "outputs": [],
   "source": [
    "assignment = pd.read_csv(ASSIGNMENT_PATH, converters={'Nummer': lambda x: str(x).zfill(4)})\n",
    "file_ids = assignment['Nummer'].tolist()"
   ]
  },
  {
   "cell_type": "markdown",
   "metadata": {},
   "source": [
    "Images"
   ]
  },
  {
   "cell_type": "code",
   "execution_count": null,
   "metadata": {},
   "outputs": [],
   "source": [
    "image_list = [io.imread(os.path.join(DATA_PATH, img_name), as_gray=True) for \n",
    "              img_name in [s + '_' + IMAGE + '.tif' for s in file_ids]]\n",
    "\n",
    "image_list = [np.expand_dims(img, axis=2) for img in image_list]\n",
    "data = [{'rawdata': img, 'element_size_um': EL_SIZE} for img in image_list]"
   ]
  },
  {
   "cell_type": "markdown",
   "metadata": {},
   "source": [
    "### Loop over coder and folds"
   ]
  },
  {
   "cell_type": "code",
   "execution_count": null,
   "metadata": {},
   "outputs": [],
   "source": [
    "for coder in CODER:\n",
    "    mask_list = [io.imread(os.path.join(MASK_PATH, coder, x), as_gray=True).astype('int')\n",
    "             for x in [s + '_' + MASK + '.png' for s in file_ids]]\n",
    "    \n",
    "       \n",
    "    name = NAME_PREFIX + '_' + MASK + '_' + str(CYCLIC_LR) + '_' + coder \n",
    "    print(name)\n",
    "    \n",
    "    X_train = np.array(image_list)\n",
    "    y_train = np.array(mask_list)\n",
    "\n",
    "    data_train = [{'rawdata': img, 'element_size_um': EL_SIZE} for img in X_train]\n",
    "\n",
    "    ## Generators\n",
    "    train_generator = preproc.DataAugmentationGenerator(data = data_train, \n",
    "                                                    classlabels=y_train,\n",
    "                                                    instancelabels=None,\n",
    "                                                    tile_shape = TILE_SHAPE, \n",
    "                                                    padding= PADDING,\n",
    "                                                    batch_size = 4,\n",
    "                                                    n_classes=2,\n",
    "                                                    ignore=None,\n",
    "                                                    weights=None,\n",
    "                                                    element_size_um=None,\n",
    "                                                    rotation_range_deg=(0, 360),\n",
    "                                                    flip=False,\n",
    "                                                    deformation_grid=(150, 150),\n",
    "                                                    deformation_magnitude=(10, 10),\n",
    "                                                    value_minimum_range=(0, 0),\n",
    "                                                    value_maximum_range=(0.0, 1),\n",
    "                                                    value_slope_range=(1, 1),\n",
    "                                                    shuffle=True,\n",
    "                                                    foreground_dist_sigma_px=SIGMA_BAL,\n",
    "                                                    border_weight_sigma_px=SIGMA_SEP,\n",
    "                                                    border_weight_factor=LAMBDA,\n",
    "                                                    foreground_background_ratio=V_BAL\n",
    "                                                   )\n",
    "\n",
    "\n",
    "    model = unet.Unet2D(snapshot=None, \n",
    "                    n_channels=1, \n",
    "                    n_classes=2, \n",
    "                    n_levels=4,\n",
    "                    batch_norm = BATCH_NORM,\n",
    "                    upsample=False,\n",
    "                    relu_alpha=0.1,\n",
    "                    n_features=64, name=name)\n",
    "\n",
    "    model.train(train_generator, \n",
    "            validation_generator=test_generator, \n",
    "            n_epochs=EPOCHS, \n",
    "            snapshot_interval= SNAPSHOT_INTERVAL,\n",
    "            snapshot_dir = CHECKPOINTS,\n",
    "            snapshot_prefix=name,\n",
    "            log_dir = LOGDIR,\n",
    "            cyclic_lr= CYCLIC_LR,\n",
    "            step_muliplier=9)"
   ]
  }
 ],
 "metadata": {
  "kernelspec": {
   "display_name": "Python 3",
   "language": "python",
   "name": "python3"
  },
  "language_info": {
   "codemirror_mode": {
    "name": "ipython",
    "version": 3
   },
   "file_extension": ".py",
   "mimetype": "text/x-python",
   "name": "python",
   "nbconvert_exporter": "python",
   "pygments_lexer": "ipython3",
   "version": "3.7.3"
  }
 },
 "nbformat": 4,
 "nbformat_minor": 4
}
