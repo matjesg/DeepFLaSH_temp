{
 "cells": [
  {
   "cell_type": "markdown",
   "metadata": {},
   "source": [
    "### Prediction Notebook"
   ]
  },
  {
   "cell_type": "markdown",
   "metadata": {},
   "source": [
    "Import packages"
   ]
  },
  {
   "cell_type": "code",
   "execution_count": null,
   "metadata": {},
   "outputs": [],
   "source": [
    "%load_ext autoreload\n",
    "%autoreload 2\n",
    "import numpy as np\n",
    "import pandas as pd\n",
    "from skimage import io\n",
    "import os\n",
    "from deepflash import unet, preproc\n",
    "import matplotlib.pyplot as plt\n",
    "from tqdm import tqdm\n",
    "%matplotlib inline"
   ]
  },
  {
   "cell_type": "markdown",
   "metadata": {},
   "source": [
    "## Global Settings"
   ]
  },
  {
   "cell_type": "code",
   "execution_count": null,
   "metadata": {},
   "outputs": [],
   "source": [
    "PRETAINED = 'sc_falk_cFOS_None_rohini.0100'# 'caffe/caffe_weights.h5' #None\n",
    "MASK = 'cFOS'\n",
    "IMAGE = 'red'\n",
    "CHANNELS_IMG = 1\n",
    "DATA_PATH = \"01_data\"\n",
    "ASSIGNMENT_PATH = 'Zuordnung_aktuell.xlsx'\n",
    "TILE_SHAPE = (540,540)\n",
    "PADDING = (184,184)\n",
    "EL_SIZE = [635.9, 635.9] #micrometers\n",
    "BATCH_NORM = False\n",
    "CHECKPOINT_PATH = 'checkpoints_sc'\n",
    "OUTPUT = 'predictions'"
   ]
  },
  {
   "cell_type": "markdown",
   "metadata": {
    "toc-hr-collapsed": false
   },
   "source": [
    "## Load Data"
   ]
  },
  {
   "cell_type": "markdown",
   "metadata": {},
   "source": [
    "Excel list with assignments"
   ]
  },
  {
   "cell_type": "code",
   "execution_count": null,
   "metadata": {},
   "outputs": [],
   "source": [
    "assignment = pd.read_excel(ASSIGNMENT_PATH, converters={'Nummer': lambda x: str(x).zfill(4)})\n",
    "\n",
    "assignment = assignment[(assignment['Genotyp']=='WT') & \n",
    "                       (assignment['region']=='dHC') & \n",
    "                       (assignment['Area'].isin(['CA1', 'CA3', 'DG'])) & \n",
    "                       (assignment['Experiment'].isin([1,2,3,4])) &\n",
    "                       (assignment['Cross-coder Training'].isna()) & \n",
    "                       (assignment['Ausschluss von Analyse'].isna()) &\n",
    "                       (assignment['broken'].isna())]\n",
    "\n",
    "file_ids = assignment['Nummer'].tolist()"
   ]
  },
  {
   "cell_type": "markdown",
   "metadata": {},
   "source": [
    "Images"
   ]
  },
  {
   "cell_type": "code",
   "execution_count": null,
   "metadata": {},
   "outputs": [],
   "source": [
    "image_list = [io.imread(os.path.join(DATA_PATH, img_name), as_gray=True) for \n",
    "              img_name in [s + '_' + IMAGE + '.tif' for s in file_ids]]\n",
    "\n",
    "image_list = [np.expand_dims(img, axis=2) for img in image_list]\n",
    "data = [{'rawdata': img, 'element_size_um': EL_SIZE} for img in image_list]"
   ]
  },
  {
   "cell_type": "code",
   "execution_count": null,
   "metadata": {},
   "outputs": [],
   "source": [
    "output_path = os.path.join(OUTPUT, PRETAINED)\n",
    "if not os.path.isdir(output_path):\n",
    "    os.makedirs(output_path)"
   ]
  },
  {
   "cell_type": "code",
   "execution_count": null,
   "metadata": {},
   "outputs": [],
   "source": [
    "## Predict\n",
    "pred_model = unet.Unet2D(snapshot= os.path.join(CHECKPOINT_PATH, PRETAINED + '.h5'),\n",
    "                n_channels=1, \n",
    "                n_classes=2, \n",
    "                n_levels=4, \n",
    "                batch_norm =  BATCH_NORM,\n",
    "                upsample=False,\n",
    "                relu_alpha=0.1,\n",
    "                n_features=64,name=\"U-Net\")"
   ]
  },
  {
   "cell_type": "code",
   "execution_count": null,
   "metadata": {},
   "outputs": [],
   "source": [
    "tile_generator = preproc.TileGenerator(data, TILE_SHAPE, PADDING)"
   ]
  },
  {
   "cell_type": "code",
   "execution_count": null,
   "metadata": {},
   "outputs": [],
   "source": [
    "predictions = pred_model.predict(tile_generator)"
   ]
  },
  {
   "cell_type": "code",
   "execution_count": null,
   "metadata": {},
   "outputs": [],
   "source": [
    "## Save\n",
    "for i in range(len(predictions[1])):\n",
    "    idx = file_ids[i]\n",
    "    file_name = idx + '_' + MASK + '.png'\n",
    "    io.imsave(os.path.join(output_path, file_name), predictions[1][i])"
   ]
  },
  {
   "cell_type": "code",
   "execution_count": null,
   "metadata": {},
   "outputs": [],
   "source": []
  }
 ],
 "metadata": {
  "kernelspec": {
   "display_name": "Python 3",
   "language": "python",
   "name": "python3"
  },
  "language_info": {
   "codemirror_mode": {
    "name": "ipython",
    "version": 3
   },
   "file_extension": ".py",
   "mimetype": "text/x-python",
   "name": "python",
   "nbconvert_exporter": "python",
   "pygments_lexer": "ipython3",
   "version": "3.7.3"
  }
 },
 "nbformat": 4,
 "nbformat_minor": 4
}
