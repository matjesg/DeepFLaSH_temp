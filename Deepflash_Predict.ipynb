{
  "nbformat": 4,
  "nbformat_minor": 0,
  "metadata": {
    "kernelspec": {
      "display_name": "Python 3",
      "language": "python",
      "name": "python3"
    },
    "language_info": {
      "codemirror_mode": {
        "name": "ipython",
        "version": 3
      },
      "file_extension": ".py",
      "mimetype": "text/x-python",
      "name": "python",
      "nbconvert_exporter": "python",
      "pygments_lexer": "ipython3",
      "version": "3.7.3"
    },
    "colab": {
      "name": "Deepflash_Predict.ipynb",
      "version": "0.3.2",
      "provenance": [],
      "toc_visible": true,
      "include_colab_link": true
    }
  },
  "cells": [
    {
      "cell_type": "markdown",
      "metadata": {
        "id": "view-in-github",
        "colab_type": "text"
      },
      "source": [
        "<a href=\"https://colab.research.google.com/github/matjesg/DeepFLaSH2/blob/master/Deepflash_Predict.ipynb\" target=\"_parent\"><img src=\"https://colab.research.google.com/assets/colab-badge.svg\" alt=\"Open In Colab\"/></a>"
      ]
    },
    {
      "cell_type": "markdown",
      "metadata": {
        "id": "dHI-z7rwPGGW",
        "colab_type": "text"
      },
      "source": [
        "# Prediction Notebook"
      ]
    },
    {
      "cell_type": "markdown",
      "metadata": {
        "id": "xA1L3j8jPKdR",
        "colab_type": "text"
      },
      "source": [
        "### Colab options\n",
        "\n",
        "Connect to dfpredict"
      ]
    },
    {
      "cell_type": "code",
      "metadata": {
        "id": "FsOchG4sPJ6T",
        "colab_type": "code",
        "colab": {}
      },
      "source": [
        "try:\n",
        "    from google.colab import drive\n",
        "    drive.mount('/content/drive')\n",
        "    !git clone https://github.com/matjesg/DeepFLaSH2.git /content/drive/My\\ Drive/DeepFLaSH2\n",
        "    %cd /content/drive/My\\ Drive/DeepFLaSH2\n",
        "    !git pull\n",
        "except:\n",
        "    pass"
      ],
      "execution_count": 0,
      "outputs": []
    },
    {
      "cell_type": "markdown",
      "metadata": {
        "id": "YXIlvLa9PGGZ",
        "colab_type": "text"
      },
      "source": [
        "Import packages"
      ]
    },
    {
      "cell_type": "code",
      "metadata": {
        "id": "BzEVfIdAPGGa",
        "colab_type": "code",
        "colab": {}
      },
      "source": [
        "%load_ext autoreload\n",
        "%autoreload 2\n",
        "import numpy as np\n",
        "import pandas as pd\n",
        "from skimage import io\n",
        "import os\n",
        "from deepflash import unet, preproc\n",
        "import matplotlib.pyplot as plt\n",
        "from tqdm import tqdm\n",
        "%matplotlib inline"
      ],
      "execution_count": 0,
      "outputs": []
    },
    {
      "cell_type": "markdown",
      "metadata": {
        "id": "xRp7SV82PGGd",
        "colab_type": "text"
      },
      "source": [
        "## Global Settings"
      ]
    },
    {
      "cell_type": "code",
      "metadata": {
        "id": "Wh_Hv16BPGGe",
        "colab_type": "code",
        "colab": {}
      },
      "source": [
        "PRETAINED = 'all_falk_cFOS_triangular.0100'\n",
        "MASK = 'cFOS'\n",
        "IMAGE = 'red'\n",
        "CHANNELS_IMG = 1\n",
        "DATA_PATH = \"data\"\n",
        "ASSIGNMENT_PATH = 'Zuordnung_aktuell.xlsx'\n",
        "TILE_SHAPE = (540,540)\n",
        "PADDING = (184,184)\n",
        "EL_SIZE = [635.9, 635.9] #micrometers\n",
        "BATCH_NORM = False\n",
        "CHECKPOINT_PATH = 'checkpoints_sc'\n",
        "OUTPUT = 'predictions'"
      ],
      "execution_count": 0,
      "outputs": []
    },
    {
      "cell_type": "markdown",
      "metadata": {
        "toc-hr-collapsed": false,
        "id": "X6fRsGToPGGg",
        "colab_type": "text"
      },
      "source": [
        "## Load Data"
      ]
    },
    {
      "cell_type": "markdown",
      "metadata": {
        "id": "uurBK4NOPGGh",
        "colab_type": "text"
      },
      "source": [
        "Excel list with assignments"
      ]
    },
    {
      "cell_type": "code",
      "metadata": {
        "id": "qWGJ3RAGPGGi",
        "colab_type": "code",
        "colab": {}
      },
      "source": [
        "assignment = pd.read_excel(ASSIGNMENT_PATH, converters={'Nummer': lambda x: str(x).zfill(4)})\n",
        "\n",
        "assignment = assignment[(assignment['Genotyp']=='WT') & \n",
        "                       (assignment['region']=='dHC') & \n",
        "                       (assignment['Area'].isin(['CA1', 'CA3', 'DG'])) & \n",
        "                       (assignment['Experiment'].isin([1,2,3,4])) &\n",
        "                       (assignment['Cross-coder Training'].isna()) & \n",
        "                       (assignment['Ausschluss von Analyse'].isna()) &\n",
        "                       (assignment['broken'].isna())]\n",
        "\n",
        "file_ids = assignment['Nummer'].tolist()"
      ],
      "execution_count": 0,
      "outputs": []
    },
    {
      "cell_type": "markdown",
      "metadata": {
        "id": "SKBuDZMBPGGm",
        "colab_type": "text"
      },
      "source": [
        "Images"
      ]
    },
    {
      "cell_type": "code",
      "metadata": {
        "id": "1p_152hFPGGn",
        "colab_type": "code",
        "colab": {}
      },
      "source": [
        "image_list = [io.imread(os.path.join(DATA_PATH, MASK, img_name), as_gray=True) for \n",
        "              img_name in [s + '_' + IMAGE + '.tif' for s in file_ids]]\n",
        "\n",
        "image_list = [np.expand_dims(img, axis=2) for img in image_list]\n",
        "data = [{'rawdata': img, 'element_size_um': EL_SIZE} for img in image_list]"
      ],
      "execution_count": 0,
      "outputs": []
    },
    {
      "cell_type": "code",
      "metadata": {
        "id": "J1QX3rJmPGGp",
        "colab_type": "code",
        "colab": {}
      },
      "source": [
        "output_path = os.path.join(OUTPUT, PRETAINED)\n",
        "if not os.path.isdir(output_path):\n",
        "    os.makedirs(output_path)"
      ],
      "execution_count": 0,
      "outputs": []
    },
    {
      "cell_type": "markdown",
      "metadata": {
        "id": "4wGcEnXqRx9v",
        "colab_type": "text"
      },
      "source": [
        "### Predict"
      ]
    },
    {
      "cell_type": "code",
      "metadata": {
        "id": "7Lv6eOWDPGGr",
        "colab_type": "code",
        "colab": {}
      },
      "source": [
        "pred_model = unet.Unet2D(snapshot= os.path.join(CHECKPOINT_PATH, PRETAINED + '.h5'),\n",
        "                n_channels=1, \n",
        "                n_classes=2, \n",
        "                n_levels=4, \n",
        "                batch_norm =  BATCH_NORM,\n",
        "                upsample=False,\n",
        "                relu_alpha=0.1,\n",
        "                n_features=64,name=\"U-Net\")"
      ],
      "execution_count": 0,
      "outputs": []
    },
    {
      "cell_type": "code",
      "metadata": {
        "id": "VhhsvKp1PGGu",
        "colab_type": "code",
        "colab": {}
      },
      "source": [
        "tile_generator = preproc.TileGenerator(data, TILE_SHAPE, PADDING)"
      ],
      "execution_count": 0,
      "outputs": []
    },
    {
      "cell_type": "code",
      "metadata": {
        "id": "OUvCbKtlPGGx",
        "colab_type": "code",
        "colab": {}
      },
      "source": [
        "predictions = pred_model.predict(tile_generator)"
      ],
      "execution_count": 0,
      "outputs": []
    },
    {
      "cell_type": "markdown",
      "metadata": {
        "id": "-ICYFabzTKzM",
        "colab_type": "text"
      },
      "source": [
        "## Save"
      ]
    },
    {
      "cell_type": "code",
      "metadata": {
        "id": "nzv25p2hPGG3",
        "colab_type": "code",
        "colab": {}
      },
      "source": [
        "for i in range(len(predictions[1])):\n",
        "    idx = file_ids[i]\n",
        "    file_name = idx + '_' + MASK + '.png'\n",
        "    io.imsave(os.path.join(output_path, file_name), predictions[1][i])"
      ],
      "execution_count": 0,
      "outputs": []
    }
  ]
}