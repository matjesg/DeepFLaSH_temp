{
 "cells": [
  {
   "cell_type": "markdown",
   "metadata": {},
   "source": [
    "### Cross validation Notebook\n",
    "\n",
    "- [ ] Cora\n",
    "- [ ] Dennis\n",
    "- [ ] Manju\n",
    "- [ ] Corinna\n",
    "- [ ] GT\n",
    "- [ ] Cross Coder?"
   ]
  },
  {
   "cell_type": "markdown",
   "metadata": {},
   "source": [
    "### Colab options"
   ]
  },
  {
   "cell_type": "code",
   "execution_count": null,
   "metadata": {},
   "outputs": [],
   "source": [
    "try:\n",
    "    from google.colab import drive\n",
    "    drive.mount('/content/drive')\n",
    "    !git clone https://github.com/matjesg/DeepFLaSH2.git /content/drive/My\\ Drive/DeepFLaSH2\n",
    "    %cd /content/drive/My\\ Drive/DeepFLaSH2\n",
    "except:\n",
    "    pass"
   ]
  },
  {
   "cell_type": "markdown",
   "metadata": {},
   "source": [
    "Import packages"
   ]
  },
  {
   "cell_type": "code",
   "execution_count": null,
   "metadata": {},
   "outputs": [],
   "source": [
    "%load_ext autoreload\n",
    "%autoreload 2\n",
    "import numpy as np\n",
    "import pandas as pd\n",
    "from skimage import io\n",
    "import os\n",
    "from deepflash import unet, preproc, metrics, lr_finder, utils\n",
    "import matplotlib.pyplot as plt\n",
    "from sklearn.model_selection import train_test_split\n",
    "from sklearn.model_selection import StratifiedKFold\n",
    "import skimage\n",
    "from skimage.measure import label\n",
    "from skimage.color import label2rgb\n",
    "%matplotlib inline"
   ]
  },
  {
   "cell_type": "markdown",
   "metadata": {},
   "source": [
    "## Global Settings"
   ]
  },
  {
   "cell_type": "code",
   "execution_count": null,
   "metadata": {},
   "outputs": [],
   "source": [
    "SKIP = 0\n",
    "CODER = ['manju', 'corinna', 'rohini', 'dennis'] #cora'\n",
    "NAME_PREFIX = 'falk'\n",
    "MASK = 'cFOS'\n",
    "IMAGE = 'red'\n",
    "CHANNELS_IMG = 100\n",
    "DATA_PATH = \"data/images\"\n",
    "MASK_PATH = \"data/labels\"\n",
    "ASSIGNMENT_PATH = 'samples_36_final.csv'\n",
    "TILE_SHAPE = (540,540)\n",
    "PADDING = (184,184)\n",
    "SEED = 0\n",
    "EL_SIZE = [635.9, 635.9] #micrometers\n",
    "CHECKPOINTS = 'checkpoints_cv'\n",
    "LOGDIR = 'logs_cv'"
   ]
  },
  {
   "cell_type": "markdown",
   "metadata": {},
   "source": [
    "### Training params"
   ]
  },
  {
   "cell_type": "code",
   "execution_count": null,
   "metadata": {},
   "outputs": [],
   "source": [
    "PRETAINED = None #'caffe/caffe_weights.5' #None\n",
    "BATCH_NORM = False\n",
    "EPOCHS = 100\n",
    "CYCLIC_LR = None #'triangular'\n",
    "SNAPSHOT_INTERVAL = 5\n",
    "N_SPLITS = 4"
   ]
  },
  {
   "cell_type": "markdown",
   "metadata": {},
   "source": [
    "### Weighting params"
   ]
  },
  {
   "cell_type": "code",
   "execution_count": null,
   "metadata": {},
   "outputs": [],
   "source": [
    "LAMBDA = 50 #50\n",
    "V_BAL = 0.1 #0.1\n",
    "SIGMA_BAL = 10 #10 \n",
    "SIGMA_SEP = 6 #6"
   ]
  },
  {
   "cell_type": "markdown",
   "metadata": {
    "toc-hr-collapsed": false
   },
   "source": [
    "## Load Data"
   ]
  },
  {
   "cell_type": "markdown",
   "metadata": {},
   "source": [
    "Excel list with assignments"
   ]
  },
  {
   "cell_type": "code",
   "execution_count": null,
   "metadata": {},
   "outputs": [],
   "source": [
    "assignment = pd.read_csv(ASSIGNMENT_PATH, converters={'Nummer': lambda x: str(x).zfill(4)})\n",
    "assignment['Group_ID'] = assignment.groupby(['Kondition', 'Area']).ngroup()\n",
    "file_ids = assignment['Nummer'].tolist()"
   ]
  },
  {
   "cell_type": "markdown",
   "metadata": {},
   "source": [
    "Images"
   ]
  },
  {
   "cell_type": "code",
   "execution_count": null,
   "metadata": {},
   "outputs": [],
   "source": [
    "image_list = [io.imread(os.path.join(DATA_PATH, img_name), as_gray=True) for \n",
    "              img_name in [s + '_' + IMAGE + '.tif' for s in file_ids]]\n",
    "\n",
    "image_list = [np.expand_dims(img, axis=2) for img in image_list]"
   ]
  },
  {
   "cell_type": "markdown",
   "metadata": {},
   "source": [
    "### Loop over coder and folds"
   ]
  },
  {
   "cell_type": "code",
   "execution_count": null,
   "metadata": {},
   "outputs": [],
   "source": [
    "for coder in CODER:\n",
    "    mask_list = [io.imread(os.path.join(MASK_PATH, coder, x), as_gray=True).astype('int')\n",
    "             for x in [s + '_' + MASK + '.png' for s in file_ids]]\n",
    "    \n",
    "    name = NAME_PREFIX + '_' + MASK + '_' + str(CYCLIC_LR) + '_' + coder \n",
    "    output_path = os.path.join('output', name)\n",
    "    os.makedirs(output_path)\n",
    "    skf = StratifiedKFold(n_splits=N_SPLITS, random_state=SEED)\n",
    "    fold = 0\n",
    "    \n",
    "    for train_index, test_index in skf.split(assignment['Nummer'], assignment['Group_ID']):\n",
    "        if fold < SKIP:\n",
    "            continue\n",
    "        fold += 1\n",
    "        X_train, X_test = np.array(image_list)[train_index], np.array(image_list)[test_index]\n",
    "        y_train, y_test = np.array(mask_list)[train_index], np.array(mask_list)[test_index]\n",
    "\n",
    "        data_train = [{'rawdata': img, 'element_size_um': EL_SIZE} for img in X_train]\n",
    "        data_test = [{'rawdata': img, 'element_size_um': EL_SIZE} for img in X_test]\n",
    "\n",
    "        ## Generators\n",
    "        train_generator = preproc.DataAugmentationGenerator(data = data_train, \n",
    "                                                        classlabels=y_train,\n",
    "                                                        instancelabels=None,\n",
    "                                                        tile_shape = TILE_SHAPE, \n",
    "                                                        padding= PADDING,\n",
    "                                                        batch_size = 4,\n",
    "                                                        n_classes=2,\n",
    "                                                        ignore=None,\n",
    "                                                        weights=None,\n",
    "                                                        element_size_um=None,\n",
    "                                                        rotation_range_deg=(0, 360),\n",
    "                                                        flip=False,\n",
    "                                                        deformation_grid=(150, 150),\n",
    "                                                        deformation_magnitude=(10, 10),\n",
    "                                                        value_minimum_range=(0, 0),\n",
    "                                                        value_maximum_range=(0.0, 1),\n",
    "                                                        value_slope_range=(1, 1),\n",
    "                                                        shuffle=True,\n",
    "                                                        foreground_dist_sigma_px=SIGMA_BAL,\n",
    "                                                        border_weight_sigma_px=SIGMA_SEP,\n",
    "                                                        border_weight_factor=LAMBDA,\n",
    "                                                        foreground_background_ratio=V_BAL\n",
    "                                                       )\n",
    "        test_generator = preproc.TileGenerator(data = data_test,\n",
    "                                           classlabels=y_test,\n",
    "                                           instancelabels=None,\n",
    "                                           tile_shape = TILE_SHAPE, \n",
    "                                           padding= PADDING,\n",
    "                                           n_classes=2,\n",
    "                                           ignore=None,\n",
    "                                           weights=None,\n",
    "                                           element_size_um=EL_SIZE,                                       \n",
    "                                           foreground_dist_sigma_px=SIGMA_BAL,\n",
    "                                           border_weight_sigma_px=SIGMA_SEP,\n",
    "                                           border_weight_factor=LAMBDA,\n",
    "                                           foreground_background_ratio=V_BAL)\n",
    "\n",
    "        ## Model\n",
    "        name_helper = name + '_' + str(fold)\n",
    "\n",
    "        print(name_helper)\n",
    "\n",
    "        model = unet.Unet2D(snapshot=None, \n",
    "                        n_channels=1, \n",
    "                        n_classes=2, \n",
    "                        n_levels=4,\n",
    "                        batch_norm = BATCH_NORM,\n",
    "                        upsample=False,\n",
    "                        relu_alpha=0.1,\n",
    "                        n_features=64, name=name_helper)\n",
    "\n",
    "        if PRETAINED is not None: \n",
    "            model.trainModel.load_weights(PRETAINED,reshape=True, by_name=True)\n",
    "\n",
    "        model.train(train_generator, \n",
    "                validation_generator=test_generator, \n",
    "                n_epochs=EPOCHS, \n",
    "                snapshot_interval= SNAPSHOT_INTERVAL,\n",
    "                snapshot_dir = CHECKPOINTS,\n",
    "                snapshot_prefix=name_helper,\n",
    "                log_dir = LOGDIR,\n",
    "                cyclic_lr= CYCLIC_LR)\n",
    "\n",
    "        ## Predict\n",
    "        pred_model = unet.Unet2D(snapshot= CHECKPOINTS + '/' +name_helper+'.0100.h5',\n",
    "                        n_channels=1, \n",
    "                        n_classes=2, \n",
    "                        n_levels=4, \n",
    "                        batch_norm =  BATCH_NORM,\n",
    "                        upsample=False,\n",
    "                        relu_alpha=0.1,\n",
    "                        n_features=64,name=\"U-Net\")\n",
    "\n",
    "        tile_generator = preproc.TileGenerator(data_test, TILE_SHAPE, PADDING)\n",
    "\n",
    "        predictions = pred_model.predict(test_generator)\n",
    "\n",
    "        ## Save\n",
    "        for i in range(len(predictions[1])):\n",
    "            idx = np.array(file_ids)[test_index][i]\n",
    "            file_name = idx + '_' + MASK + '.png'\n",
    "            io.imsave(os.path.join(output_path, file_name), predictions[1][i])"
   ]
  }
 ],
 "metadata": {
  "kernelspec": {
   "display_name": "Python 3",
   "language": "python",
   "name": "python3"
  },
  "language_info": {
   "codemirror_mode": {
    "name": "ipython",
    "version": 3
   },
   "file_extension": ".py",
   "mimetype": "text/x-python",
   "name": "python",
   "nbconvert_exporter": "python",
   "pygments_lexer": "ipython3",
   "version": "3.7.3"
  }
 },
 "nbformat": 4,
 "nbformat_minor": 4
}
